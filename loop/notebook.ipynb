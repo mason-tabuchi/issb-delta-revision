{
 "cells": [
  {
   "cell_type": "markdown",
   "metadata": {},
   "source": [
    "# 1-loop correction to κ(H)\n",
    "\n",
    "Minimal template: run each cell in VS Code + Jupyter kernel.\n"
   ]
  },
  {
   "cell_type": "code",
   "execution_count": null,
   "metadata": {},
   "outputs": [],
   "source": [
    "import sympy as sp\n",
    "from sympy.integrals import integrate\n",
    "H, k, Λ = sp.symbols('H k Λ', positive=True)\n",
    "\n",
    "# toy integral I(H) = ∫₀^Λ k^3 / (k^2 + H^2) dk\n",
    "I = integrate(k**3 / (k**2 + H**2), (k, 0, Λ))\n",
    "sp.simplify(I)"
   ]
  }
 ],
 "metadata": {
  "kernelspec": {
   "display_name": "Python 3",
   "language": "python",
   "name": "python3"
  }
 },
 "nbformat": 4,
 "nbformat_minor": 5
}
